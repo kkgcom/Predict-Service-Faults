{
 "cells": [
  {
   "cell_type": "code",
   "execution_count": 1,
   "id": "b2f20c03",
   "metadata": {},
   "outputs": [],
   "source": [
    "# Loading Libraries\n",
    "\n",
    "import numpy as np\n",
    "from sklearn.ensemble import RandomForestClassifier\n",
    "import numpy as np # linear algebra\n",
    "import pandas as pd # data processing, CSV file I/O (e.g. pd.read_csv)\n",
    "from sklearn import preprocessing\n",
    "from sklearn.linear_model import LogisticRegression\n",
    "from sklearn.naive_bayes import GaussianNB\n",
    "from sklearn import tree\n",
    "from sklearn import svm\n",
    "from sklearn.ensemble import AdaBoostClassifier\n",
    "from sklearn.neighbors import KNeighborsClassifier\n",
    "from sklearn import ensemble\n",
    "from sklearn.metrics import accuracy_score"
   ]
  },
  {
   "cell_type": "code",
   "execution_count": null,
   "id": "feccfdaa",
   "metadata": {},
   "outputs": [],
   "source": [
    "# we are required to predict the fault severity i.e, if the fault is a normal glitch or it is critical and \n",
    "# will result in total loss of service. As we know that Telecom Operatores strive to provide the best possible service \n",
    "# to customers and network outages are taken very seriously as they effect user experience and also impact the revenue.\n",
    "\n",
    "# We are given a training data where the fault_severity is already provided (labels). \n",
    "# And we are required to predict the fault severity (ranging from 0 to 2) for the test data. \n",
    "# Fault severity of 0 means no fault and 2 means critical (total loss of service)"
   ]
  },
  {
   "cell_type": "code",
   "execution_count": 2,
   "id": "9980c648",
   "metadata": {},
   "outputs": [],
   "source": [
    "# Importing datasets\n",
    "event_type=pd.read_csv(\"Dataset/event_type.csv\",error_bad_lines=False)\n",
    "train = pd.read_csv(\"Dataset/train.csv\")\n",
    "severity_type = pd.read_csv(\"Dataset/severity_type.csv\")\n",
    "log_feature = pd.read_csv(\"Dataset/log_feature.csv\")\n",
    "test = pd.read_csv(\"Dataset/test.csv\")\n",
    "resource_type = pd.read_csv(\"Dataset/resource_type.csv\",error_bad_lines=False)"
   ]
  },
  {
   "cell_type": "code",
   "execution_count": 3,
   "id": "2aa2511c",
   "metadata": {},
   "outputs": [
    {
     "name": "stdout",
     "output_type": "stream",
     "text": [
      "test (11171, 2)\n",
      "train (7381, 3)\n"
     ]
    }
   ],
   "source": [
    "print(\"test\",test.shape)\n",
    "print(\"train\",train.shape)"
   ]
  },
  {
   "cell_type": "code",
   "execution_count": 4,
   "id": "ad67dade",
   "metadata": {},
   "outputs": [
    {
     "name": "stdout",
     "output_type": "stream",
     "text": [
      "test       id      location\n",
      "0  11066  location 481\n",
      "1  18000  location 962\n",
      "2  16964  location 491\n",
      "3   4795  location 532\n",
      "4   3392  location 600\n",
      "train       id      location  fault_severity\n",
      "0  14121  location 118               1\n",
      "1   9320   location 91               0\n",
      "2  14394  location 152               1\n",
      "3   8218  location 931               1\n",
      "sample_submission       id  predict_0  predict_1  predict_2\n",
      "0  11066          0          1          0\n",
      "1  18000          0          1          0\n",
      "2  16964          0          1          0\n",
      "3   4795          0          1          0\n",
      "4   3392          0          1          0\n",
      "event_type (31170, 2)      id     event_type\n",
      "0  6597  event_type 11\n",
      "1  8011  event_type 15\n",
      "severity_type (18552, 2)      id    severity_type\n",
      "0  6597  severity_type 2\n",
      "1  8011  severity_type 2\n",
      "log_feature (58671, 3)      id log_feature  volume\n",
      "0  6597  feature 68       6\n",
      "1  8011  feature 68       7\n",
      "resource_type (21076, 2)      id    resource_type\n",
      "0  6597  resource_type 8\n",
      "1  8011  resource_type 8\n"
     ]
    }
   ],
   "source": [
    "# Input datasets heads\n",
    "print('test',test.head())\n",
    "print('train',train.head(4))\n",
    "print('sample_submission',sample_submission.head())\n",
    "print('event_type',event_type.shape,event_type.head(2))\n",
    "print('severity_type',severity_type.shape,severity_type.head(2))\n",
    "print('log_feature',log_feature.shape,log_feature.head(2))\n",
    "print('resource_type',resource_type.shape,resource_type.head(2))"
   ]
  },
  {
   "cell_type": "code",
   "execution_count": 5,
   "id": "7320f106",
   "metadata": {},
   "outputs": [
    {
     "name": "stdout",
     "output_type": "stream",
     "text": [
      "0 65 %\n",
      "1 25 %\n",
      "2 10 %\n"
     ]
    }
   ],
   "source": [
    "# Visualization of Severity\n",
    "val=list(train['fault_severity'].value_counts())\n",
    "for i in range(len(val)):\n",
    "    print(train['fault_severity'].value_counts().index[i],round(val[i]/sum(val)*100),'%')"
   ]
  },
  {
   "cell_type": "code",
   "execution_count": 6,
   "id": "f269072e",
   "metadata": {},
   "outputs": [],
   "source": [
    "# Data conversion\n",
    "event_type['id']=pd.to_numeric(event_type['id'],errors='coerce')\n",
    "#converting object datatype into numeric"
   ]
  },
  {
   "cell_type": "code",
   "execution_count": 7,
   "id": "e8887918",
   "metadata": {},
   "outputs": [
    {
     "data": {
      "text/plain": [
       "id             int64\n",
       "event_type    object\n",
       "dtype: object"
      ]
     },
     "execution_count": 7,
     "metadata": {},
     "output_type": "execute_result"
    }
   ],
   "source": [
    "event_type.dtypes"
   ]
  },
  {
   "cell_type": "code",
   "execution_count": 8,
   "id": "85960970",
   "metadata": {},
   "outputs": [],
   "source": [
    "# Training Preprocessing"
   ]
  },
  {
   "cell_type": "code",
   "execution_count": 9,
   "id": "20ab69c1",
   "metadata": {},
   "outputs": [],
   "source": [
    "# Merging\n",
    "def merge_fn(df1,df2,col_name,how_param):\n",
    "    merged_df=df1.merge(df2,how=how_param,on=col_name)\n",
    "    return merged_df"
   ]
  },
  {
   "cell_type": "code",
   "execution_count": 10,
   "id": "4acd8df5",
   "metadata": {},
   "outputs": [],
   "source": [
    "train_merge1=merge_fn(train,event_type.drop_duplicates(subset=['id']),'id','left')\n",
    "train_merge2=merge_fn(train_merge1,severity_type.drop_duplicates(subset=['id']),'id','left')\n",
    "train_merge3=merge_fn(train_merge2,log_feature.drop_duplicates(subset=['id']),'id','left')\n",
    "train_merge4=merge_fn(train_merge3,resource_type.drop_duplicates(subset=['id']),'id','left')"
   ]
  },
  {
   "cell_type": "code",
   "execution_count": 11,
   "id": "c93277b0",
   "metadata": {},
   "outputs": [
    {
     "data": {
      "text/plain": [
       "(7381, 8)"
      ]
     },
     "execution_count": 11,
     "metadata": {},
     "output_type": "execute_result"
    }
   ],
   "source": [
    "train_merge4.shape"
   ]
  },
  {
   "cell_type": "code",
   "execution_count": 12,
   "id": "f43ab890",
   "metadata": {},
   "outputs": [
    {
     "data": {
      "text/html": [
       "<div>\n",
       "<style scoped>\n",
       "    .dataframe tbody tr th:only-of-type {\n",
       "        vertical-align: middle;\n",
       "    }\n",
       "\n",
       "    .dataframe tbody tr th {\n",
       "        vertical-align: top;\n",
       "    }\n",
       "\n",
       "    .dataframe thead th {\n",
       "        text-align: right;\n",
       "    }\n",
       "</style>\n",
       "<table border=\"1\" class=\"dataframe\">\n",
       "  <thead>\n",
       "    <tr style=\"text-align: right;\">\n",
       "      <th></th>\n",
       "      <th>id</th>\n",
       "      <th>location</th>\n",
       "      <th>fault_severity</th>\n",
       "      <th>event_type</th>\n",
       "      <th>severity_type</th>\n",
       "      <th>log_feature</th>\n",
       "      <th>volume</th>\n",
       "      <th>resource_type</th>\n",
       "    </tr>\n",
       "  </thead>\n",
       "  <tbody>\n",
       "    <tr>\n",
       "      <th>0</th>\n",
       "      <td>14121</td>\n",
       "      <td>location 118</td>\n",
       "      <td>1</td>\n",
       "      <td>event_type 34</td>\n",
       "      <td>severity_type 2</td>\n",
       "      <td>feature 312</td>\n",
       "      <td>19</td>\n",
       "      <td>resource_type 2</td>\n",
       "    </tr>\n",
       "    <tr>\n",
       "      <th>1</th>\n",
       "      <td>9320</td>\n",
       "      <td>location 91</td>\n",
       "      <td>0</td>\n",
       "      <td>event_type 34</td>\n",
       "      <td>severity_type 2</td>\n",
       "      <td>feature 315</td>\n",
       "      <td>200</td>\n",
       "      <td>resource_type 2</td>\n",
       "    </tr>\n",
       "    <tr>\n",
       "      <th>2</th>\n",
       "      <td>14394</td>\n",
       "      <td>location 152</td>\n",
       "      <td>1</td>\n",
       "      <td>event_type 35</td>\n",
       "      <td>severity_type 2</td>\n",
       "      <td>feature 221</td>\n",
       "      <td>1</td>\n",
       "      <td>resource_type 2</td>\n",
       "    </tr>\n",
       "    <tr>\n",
       "      <th>3</th>\n",
       "      <td>8218</td>\n",
       "      <td>location 931</td>\n",
       "      <td>1</td>\n",
       "      <td>event_type 15</td>\n",
       "      <td>severity_type 1</td>\n",
       "      <td>feature 80</td>\n",
       "      <td>9</td>\n",
       "      <td>resource_type 8</td>\n",
       "    </tr>\n",
       "    <tr>\n",
       "      <th>4</th>\n",
       "      <td>14804</td>\n",
       "      <td>location 120</td>\n",
       "      <td>0</td>\n",
       "      <td>event_type 34</td>\n",
       "      <td>severity_type 1</td>\n",
       "      <td>feature 134</td>\n",
       "      <td>1</td>\n",
       "      <td>resource_type 2</td>\n",
       "    </tr>\n",
       "  </tbody>\n",
       "</table>\n",
       "</div>"
      ],
      "text/plain": [
       "      id      location  fault_severity     event_type    severity_type  \\\n",
       "0  14121  location 118               1  event_type 34  severity_type 2   \n",
       "1   9320   location 91               0  event_type 34  severity_type 2   \n",
       "2  14394  location 152               1  event_type 35  severity_type 2   \n",
       "3   8218  location 931               1  event_type 15  severity_type 1   \n",
       "4  14804  location 120               0  event_type 34  severity_type 1   \n",
       "\n",
       "   log_feature  volume    resource_type  \n",
       "0  feature 312      19  resource_type 2  \n",
       "1  feature 315     200  resource_type 2  \n",
       "2  feature 221       1  resource_type 2  \n",
       "3   feature 80       9  resource_type 8  \n",
       "4  feature 134       1  resource_type 2  "
      ]
     },
     "execution_count": 12,
     "metadata": {},
     "output_type": "execute_result"
    }
   ],
   "source": [
    "train_merge4.head()"
   ]
  },
  {
   "cell_type": "code",
   "execution_count": 13,
   "id": "8760dc40",
   "metadata": {},
   "outputs": [],
   "source": [
    "# Calculating mean volumn\n",
    "train_merge4['mean_volumn']=train_merge4.groupby(['location','event_type','severity_type','log_feature','resource_type'])['volume'].transform('mean')"
   ]
  },
  {
   "cell_type": "code",
   "execution_count": 14,
   "id": "97b9e96f",
   "metadata": {},
   "outputs": [
    {
     "data": {
      "text/html": [
       "<div>\n",
       "<style scoped>\n",
       "    .dataframe tbody tr th:only-of-type {\n",
       "        vertical-align: middle;\n",
       "    }\n",
       "\n",
       "    .dataframe tbody tr th {\n",
       "        vertical-align: top;\n",
       "    }\n",
       "\n",
       "    .dataframe thead th {\n",
       "        text-align: right;\n",
       "    }\n",
       "</style>\n",
       "<table border=\"1\" class=\"dataframe\">\n",
       "  <thead>\n",
       "    <tr style=\"text-align: right;\">\n",
       "      <th></th>\n",
       "      <th>id</th>\n",
       "      <th>location</th>\n",
       "      <th>fault_severity</th>\n",
       "      <th>event_type</th>\n",
       "      <th>severity_type</th>\n",
       "      <th>log_feature</th>\n",
       "      <th>volume</th>\n",
       "      <th>resource_type</th>\n",
       "      <th>mean_volumn</th>\n",
       "    </tr>\n",
       "  </thead>\n",
       "  <tbody>\n",
       "    <tr>\n",
       "      <th>0</th>\n",
       "      <td>14121</td>\n",
       "      <td>location 118</td>\n",
       "      <td>1</td>\n",
       "      <td>event_type 34</td>\n",
       "      <td>severity_type 2</td>\n",
       "      <td>feature 312</td>\n",
       "      <td>19</td>\n",
       "      <td>resource_type 2</td>\n",
       "      <td>16.285714</td>\n",
       "    </tr>\n",
       "    <tr>\n",
       "      <th>1</th>\n",
       "      <td>9320</td>\n",
       "      <td>location 91</td>\n",
       "      <td>0</td>\n",
       "      <td>event_type 34</td>\n",
       "      <td>severity_type 2</td>\n",
       "      <td>feature 315</td>\n",
       "      <td>200</td>\n",
       "      <td>resource_type 2</td>\n",
       "      <td>163.000000</td>\n",
       "    </tr>\n",
       "    <tr>\n",
       "      <th>2</th>\n",
       "      <td>14394</td>\n",
       "      <td>location 152</td>\n",
       "      <td>1</td>\n",
       "      <td>event_type 35</td>\n",
       "      <td>severity_type 2</td>\n",
       "      <td>feature 221</td>\n",
       "      <td>1</td>\n",
       "      <td>resource_type 2</td>\n",
       "      <td>1.000000</td>\n",
       "    </tr>\n",
       "    <tr>\n",
       "      <th>3</th>\n",
       "      <td>8218</td>\n",
       "      <td>location 931</td>\n",
       "      <td>1</td>\n",
       "      <td>event_type 15</td>\n",
       "      <td>severity_type 1</td>\n",
       "      <td>feature 80</td>\n",
       "      <td>9</td>\n",
       "      <td>resource_type 8</td>\n",
       "      <td>7.500000</td>\n",
       "    </tr>\n",
       "    <tr>\n",
       "      <th>4</th>\n",
       "      <td>14804</td>\n",
       "      <td>location 120</td>\n",
       "      <td>0</td>\n",
       "      <td>event_type 34</td>\n",
       "      <td>severity_type 1</td>\n",
       "      <td>feature 134</td>\n",
       "      <td>1</td>\n",
       "      <td>resource_type 2</td>\n",
       "      <td>1.000000</td>\n",
       "    </tr>\n",
       "  </tbody>\n",
       "</table>\n",
       "</div>"
      ],
      "text/plain": [
       "      id      location  fault_severity     event_type    severity_type  \\\n",
       "0  14121  location 118               1  event_type 34  severity_type 2   \n",
       "1   9320   location 91               0  event_type 34  severity_type 2   \n",
       "2  14394  location 152               1  event_type 35  severity_type 2   \n",
       "3   8218  location 931               1  event_type 15  severity_type 1   \n",
       "4  14804  location 120               0  event_type 34  severity_type 1   \n",
       "\n",
       "   log_feature  volume    resource_type  mean_volumn  \n",
       "0  feature 312      19  resource_type 2    16.285714  \n",
       "1  feature 315     200  resource_type 2   163.000000  \n",
       "2  feature 221       1  resource_type 2     1.000000  \n",
       "3   feature 80       9  resource_type 8     7.500000  \n",
       "4  feature 134       1  resource_type 2     1.000000  "
      ]
     },
     "execution_count": 14,
     "metadata": {},
     "output_type": "execute_result"
    }
   ],
   "source": [
    "# Merged Training data\n",
    "train_merge4.head()"
   ]
  },
  {
   "cell_type": "code",
   "execution_count": 15,
   "id": "cc719b55",
   "metadata": {},
   "outputs": [
    {
     "data": {
      "text/plain": [
       "id                  int64\n",
       "location           object\n",
       "fault_severity      int64\n",
       "event_type         object\n",
       "severity_type      object\n",
       "log_feature        object\n",
       "volume              int64\n",
       "resource_type      object\n",
       "mean_volumn       float64\n",
       "dtype: object"
      ]
     },
     "execution_count": 15,
     "metadata": {},
     "output_type": "execute_result"
    }
   ],
   "source": [
    "train_merge4.dtypes"
   ]
  },
  {
   "cell_type": "code",
   "execution_count": 16,
   "id": "9ea9ba58",
   "metadata": {},
   "outputs": [
    {
     "data": {
      "text/plain": [
       "id                0\n",
       "location          0\n",
       "fault_severity    0\n",
       "event_type        0\n",
       "severity_type     0\n",
       "log_feature       0\n",
       "volume            0\n",
       "resource_type     0\n",
       "mean_volumn       0\n",
       "dtype: int64"
      ]
     },
     "execution_count": 16,
     "metadata": {},
     "output_type": "execute_result"
    }
   ],
   "source": [
    "# Checking for missing values\n",
    "train_merge4.isnull().sum()"
   ]
  },
  {
   "cell_type": "code",
   "execution_count": 17,
   "id": "b59b8a86",
   "metadata": {},
   "outputs": [],
   "source": [
    "# Finding categorical columns\n",
    "cat_col=list(set(train_merge4.columns)-set(train_merge4._get_numeric_data().columns))"
   ]
  },
  {
   "cell_type": "code",
   "execution_count": 18,
   "id": "306222a5",
   "metadata": {},
   "outputs": [
    {
     "data": {
      "text/plain": [
       "['event_type', 'location', 'resource_type', 'log_feature', 'severity_type']"
      ]
     },
     "execution_count": 18,
     "metadata": {},
     "output_type": "execute_result"
    }
   ],
   "source": [
    "cat_col"
   ]
  },
  {
   "cell_type": "code",
   "execution_count": 19,
   "id": "90f29a65",
   "metadata": {},
   "outputs": [],
   "source": [
    "# Categorical conversion\n",
    "def categorical_conversion(df,cat_col):\n",
    "    for i in range(len(cat_col)):\n",
    "        df[cat_col[i]]=df[cat_col[i]].astype('category')\n",
    "    return df"
   ]
  },
  {
   "cell_type": "code",
   "execution_count": 20,
   "id": "d05c3a2f",
   "metadata": {},
   "outputs": [],
   "source": [
    "# train_merge4=categorical_conversion(train_merge4,cat_col)   "
   ]
  },
  {
   "cell_type": "code",
   "execution_count": 21,
   "id": "5b313104",
   "metadata": {},
   "outputs": [
    {
     "data": {
      "text/plain": [
       "id                  int64\n",
       "location           object\n",
       "fault_severity      int64\n",
       "event_type         object\n",
       "severity_type      object\n",
       "log_feature        object\n",
       "volume              int64\n",
       "resource_type      object\n",
       "mean_volumn       float64\n",
       "dtype: object"
      ]
     },
     "execution_count": 21,
     "metadata": {},
     "output_type": "execute_result"
    }
   ],
   "source": [
    "train_merge4.dtypes"
   ]
  },
  {
   "cell_type": "code",
   "execution_count": 22,
   "id": "4eeb4cb7",
   "metadata": {},
   "outputs": [],
   "source": [
    "# Label encoding\n",
    "def label_encoding_conversion(df,cat_col):\n",
    "    le=preprocessing.LabelEncoder()\n",
    "    for i in range(len(cat_col)):\n",
    "        df[cat_col[i]]=le.fit_transform(df[cat_col[i]]) # le.fit_transform(df[cat].astype(str))\n",
    "    return df"
   ]
  },
  {
   "cell_type": "code",
   "execution_count": 23,
   "id": "b9548a05",
   "metadata": {},
   "outputs": [
    {
     "data": {
      "text/plain": [
       "Index(['id', 'location', 'fault_severity', 'event_type', 'severity_type',\n",
       "       'log_feature', 'volume', 'resource_type', 'mean_volumn'],\n",
       "      dtype='object')"
      ]
     },
     "execution_count": 23,
     "metadata": {},
     "output_type": "execute_result"
    }
   ],
   "source": [
    "train_merge4.columns"
   ]
  },
  {
   "cell_type": "code",
   "execution_count": 24,
   "id": "bb6d9f5b",
   "metadata": {},
   "outputs": [],
   "source": [
    "train_merge4=label_encoding_conversion(train_merge4,cat_col)"
   ]
  },
  {
   "cell_type": "code",
   "execution_count": 25,
   "id": "5542c35a",
   "metadata": {},
   "outputs": [
    {
     "data": {
      "text/plain": [
       "Index(['id', 'location', 'fault_severity', 'event_type', 'severity_type',\n",
       "       'log_feature', 'volume', 'resource_type', 'mean_volumn'],\n",
       "      dtype='object')"
      ]
     },
     "execution_count": 25,
     "metadata": {},
     "output_type": "execute_result"
    }
   ],
   "source": [
    "train_merge4.columns"
   ]
  },
  {
   "cell_type": "code",
   "execution_count": 26,
   "id": "9cb2b5b4",
   "metadata": {},
   "outputs": [
    {
     "data": {
      "text/html": [
       "<div>\n",
       "<style scoped>\n",
       "    .dataframe tbody tr th:only-of-type {\n",
       "        vertical-align: middle;\n",
       "    }\n",
       "\n",
       "    .dataframe tbody tr th {\n",
       "        vertical-align: top;\n",
       "    }\n",
       "\n",
       "    .dataframe thead th {\n",
       "        text-align: right;\n",
       "    }\n",
       "</style>\n",
       "<table border=\"1\" class=\"dataframe\">\n",
       "  <thead>\n",
       "    <tr style=\"text-align: right;\">\n",
       "      <th></th>\n",
       "      <th>location</th>\n",
       "      <th>event_type</th>\n",
       "      <th>severity_type</th>\n",
       "      <th>log_feature</th>\n",
       "      <th>volume</th>\n",
       "      <th>resource_type</th>\n",
       "      <th>mean_volumn</th>\n",
       "    </tr>\n",
       "  </thead>\n",
       "  <tbody>\n",
       "    <tr>\n",
       "      <th>0</th>\n",
       "      <td>131</td>\n",
       "      <td>22</td>\n",
       "      <td>1</td>\n",
       "      <td>143</td>\n",
       "      <td>19</td>\n",
       "      <td>2</td>\n",
       "      <td>16.285714</td>\n",
       "    </tr>\n",
       "    <tr>\n",
       "      <th>1</th>\n",
       "      <td>850</td>\n",
       "      <td>22</td>\n",
       "      <td>1</td>\n",
       "      <td>146</td>\n",
       "      <td>200</td>\n",
       "      <td>2</td>\n",
       "      <td>163.000000</td>\n",
       "    </tr>\n",
       "    <tr>\n",
       "      <th>2</th>\n",
       "      <td>163</td>\n",
       "      <td>23</td>\n",
       "      <td>1</td>\n",
       "      <td>88</td>\n",
       "      <td>1</td>\n",
       "      <td>2</td>\n",
       "      <td>1.000000</td>\n",
       "    </tr>\n",
       "    <tr>\n",
       "      <th>3</th>\n",
       "      <td>870</td>\n",
       "      <td>5</td>\n",
       "      <td>0</td>\n",
       "      <td>211</td>\n",
       "      <td>9</td>\n",
       "      <td>8</td>\n",
       "      <td>7.500000</td>\n",
       "    </tr>\n",
       "    <tr>\n",
       "      <th>4</th>\n",
       "      <td>134</td>\n",
       "      <td>22</td>\n",
       "      <td>0</td>\n",
       "      <td>21</td>\n",
       "      <td>1</td>\n",
       "      <td>2</td>\n",
       "      <td>1.000000</td>\n",
       "    </tr>\n",
       "  </tbody>\n",
       "</table>\n",
       "</div>"
      ],
      "text/plain": [
       "   location  event_type  severity_type  log_feature  volume  resource_type  \\\n",
       "0       131          22              1          143      19              2   \n",
       "1       850          22              1          146     200              2   \n",
       "2       163          23              1           88       1              2   \n",
       "3       870           5              0          211       9              8   \n",
       "4       134          22              0           21       1              2   \n",
       "\n",
       "   mean_volumn  \n",
       "0    16.285714  \n",
       "1   163.000000  \n",
       "2     1.000000  \n",
       "3     7.500000  \n",
       "4     1.000000  "
      ]
     },
     "execution_count": 26,
     "metadata": {},
     "output_type": "execute_result"
    }
   ],
   "source": [
    "# Droping unique values\n",
    "train_merge4.drop(['id'],axis=1,inplace=True)\n",
    "target=train_merge4[['fault_severity']]\n",
    "train_merge4.drop(['fault_severity'],axis=1,inplace=True)\n",
    "train_merge4.head()"
   ]
  },
  {
   "cell_type": "code",
   "execution_count": 27,
   "id": "c6937fe7",
   "metadata": {},
   "outputs": [
    {
     "data": {
      "text/plain": [
       "location           int32\n",
       "event_type         int32\n",
       "severity_type      int32\n",
       "log_feature        int32\n",
       "volume             int64\n",
       "resource_type      int32\n",
       "mean_volumn      float64\n",
       "dtype: object"
      ]
     },
     "execution_count": 27,
     "metadata": {},
     "output_type": "execute_result"
    }
   ],
   "source": [
    "train_merge4.dtypes"
   ]
  },
  {
   "cell_type": "code",
   "execution_count": 65,
   "id": "9cc72029",
   "metadata": {},
   "outputs": [],
   "source": [
    "# EDA\n",
    "import seaborn as sns\n",
    "sns.set_style(\"whitegrid\")\n",
    "import matplotlib.pyplot as plt"
   ]
  },
  {
   "cell_type": "code",
   "execution_count": 67,
   "id": "f9cf1394",
   "metadata": {},
   "outputs": [
    {
     "name": "stderr",
     "output_type": "stream",
     "text": [
      "C:\\Users\\ekajgho\\Anaconda3\\lib\\site-packages\\seaborn\\_decorators.py:36: FutureWarning: Pass the following variable as a keyword arg: x. From version 0.12, the only valid positional argument will be `data`, and passing other arguments without an explicit keyword will result in an error or misinterpretation.\n",
      "  warnings.warn(\n"
     ]
    },
    {
     "data": {
      "image/png": "[encoded data removed]",
      "text/plain": [
       "<Figure size 576x432 with 1 Axes>"
      ]
     },
     "metadata": {},
     "output_type": "display_data"
    }
   ],
   "source": [
    "#count plot for fault severity\n",
    "\n",
    "plt.figure(figsize = (8,6))\n",
    "sns.countplot(train_merge4['severity_type'])\n",
    "plt.show()"
   ]
  },
  {
   "cell_type": "code",
   "execution_count": null,
   "id": "d43f5b6c",
   "metadata": {},
   "outputs": [],
   "source": [
    "# type 1 and type 2 and more frequent than others. These are just coded values we don't actually know what these types imply"
   ]
  },
  {
   "cell_type": "code",
   "execution_count": 68,
   "id": "084b7c57",
   "metadata": {},
   "outputs": [
    {
     "name": "stderr",
     "output_type": "stream",
     "text": [
      "C:\\Users\\ekajgho\\Anaconda3\\lib\\site-packages\\seaborn\\_decorators.py:36: FutureWarning: Pass the following variable as a keyword arg: x. From version 0.12, the only valid positional argument will be `data`, and passing other arguments without an explicit keyword will result in an error or misinterpretation.\n",
      "  warnings.warn(\n"
     ]
    },
    {
     "data": {
      "image/png": "[encoded data removed]",
      "text/plain": [
       "<Figure size 1008x432 with 1 Axes>"
      ]
     },
     "metadata": {},
     "output_type": "display_data"
    }
   ],
   "source": [
    "#count plot for resource type\n",
    "\n",
    "plt.figure(figsize = (14,6))\n",
    "sns.countplot(train_merge4['resource_type'])\n",
    "plt.tight_layout()\n",
    "plt.show()"
   ]
  },
  {
   "cell_type": "code",
   "execution_count": 69,
   "id": "436b7d34",
   "metadata": {},
   "outputs": [
    {
     "data": {
      "image/png": "[encoded data removed]",
      "text/plain": [
       "<Figure size 576x432 with 2 Axes>"
      ]
     },
     "metadata": {},
     "output_type": "display_data"
    }
   ],
   "source": [
    "#plotting the correlation matrix\n",
    "\n",
    "plt.figure(figsize = (8,6))\n",
    "sns.heatmap(train_merge4.corr(), vmax = 0.8, linewidths= 0.01, square= True, \n",
    "           annot= True, cmap= 'viridis', linecolor= 'white')\n",
    "\n",
    "plt.title('Correlation Matrix', fontsize = 15)\n",
    "plt.show()"
   ]
  },
  {
   "cell_type": "code",
   "execution_count": 28,
   "id": "aa0a6bbf",
   "metadata": {},
   "outputs": [],
   "source": [
    "# Test Data Preprocessing"
   ]
  },
  {
   "cell_type": "code",
   "execution_count": 29,
   "id": "743a7553",
   "metadata": {},
   "outputs": [
    {
     "data": {
      "text/html": [
       "<div>\n",
       "<style scoped>\n",
       "    .dataframe tbody tr th:only-of-type {\n",
       "        vertical-align: middle;\n",
       "    }\n",
       "\n",
       "    .dataframe tbody tr th {\n",
       "        vertical-align: top;\n",
       "    }\n",
       "\n",
       "    .dataframe thead th {\n",
       "        text-align: right;\n",
       "    }\n",
       "</style>\n",
       "<table border=\"1\" class=\"dataframe\">\n",
       "  <thead>\n",
       "    <tr style=\"text-align: right;\">\n",
       "      <th></th>\n",
       "      <th>id</th>\n",
       "      <th>location</th>\n",
       "    </tr>\n",
       "  </thead>\n",
       "  <tbody>\n",
       "    <tr>\n",
       "      <th>0</th>\n",
       "      <td>11066</td>\n",
       "      <td>location 481</td>\n",
       "    </tr>\n",
       "    <tr>\n",
       "      <th>1</th>\n",
       "      <td>18000</td>\n",
       "      <td>location 962</td>\n",
       "    </tr>\n",
       "    <tr>\n",
       "      <th>2</th>\n",
       "      <td>16964</td>\n",
       "      <td>location 491</td>\n",
       "    </tr>\n",
       "    <tr>\n",
       "      <th>3</th>\n",
       "      <td>4795</td>\n",
       "      <td>location 532</td>\n",
       "    </tr>\n",
       "    <tr>\n",
       "      <th>4</th>\n",
       "      <td>3392</td>\n",
       "      <td>location 600</td>\n",
       "    </tr>\n",
       "  </tbody>\n",
       "</table>\n",
       "</div>"
      ],
      "text/plain": [
       "      id      location\n",
       "0  11066  location 481\n",
       "1  18000  location 962\n",
       "2  16964  location 491\n",
       "3   4795  location 532\n",
       "4   3392  location 600"
      ]
     },
     "execution_count": 29,
     "metadata": {},
     "output_type": "execute_result"
    }
   ],
   "source": [
    "# TEST data preparation\n",
    "test.head()"
   ]
  },
  {
   "cell_type": "code",
   "execution_count": 30,
   "id": "f7135460",
   "metadata": {},
   "outputs": [
    {
     "data": {
      "text/plain": [
       "(11171, 2)"
      ]
     },
     "execution_count": 30,
     "metadata": {},
     "output_type": "execute_result"
    }
   ],
   "source": [
    "test.shape"
   ]
  },
  {
   "cell_type": "code",
   "execution_count": 31,
   "id": "9755d800",
   "metadata": {},
   "outputs": [
    {
     "data": {
      "text/plain": [
       "(11171, 7)"
      ]
     },
     "execution_count": 31,
     "metadata": {},
     "output_type": "execute_result"
    }
   ],
   "source": [
    "# Test data merging\n",
    "test_merge1=merge_fn(test,event_type.drop_duplicates(subset=['id']),'id','left')\n",
    "test_merge2=merge_fn(test_merge1,severity_type.drop_duplicates(subset=['id']),'id','left')\n",
    "test_merge3=merge_fn(test_merge2,log_feature.drop_duplicates(subset=['id']),'id','left')\n",
    "test_merge4=merge_fn(test_merge3,resource_type.drop_duplicates(subset=['id']),'id','left')\n",
    "test_merge4.shape"
   ]
  },
  {
   "cell_type": "code",
   "execution_count": 32,
   "id": "ac88d8cf",
   "metadata": {},
   "outputs": [
    {
     "data": {
      "text/html": [
       "<div>\n",
       "<style scoped>\n",
       "    .dataframe tbody tr th:only-of-type {\n",
       "        vertical-align: middle;\n",
       "    }\n",
       "\n",
       "    .dataframe tbody tr th {\n",
       "        vertical-align: top;\n",
       "    }\n",
       "\n",
       "    .dataframe thead th {\n",
       "        text-align: right;\n",
       "    }\n",
       "</style>\n",
       "<table border=\"1\" class=\"dataframe\">\n",
       "  <thead>\n",
       "    <tr style=\"text-align: right;\">\n",
       "      <th></th>\n",
       "      <th>id</th>\n",
       "      <th>severity_type</th>\n",
       "    </tr>\n",
       "  </thead>\n",
       "  <tbody>\n",
       "    <tr>\n",
       "      <th>0</th>\n",
       "      <td>6597</td>\n",
       "      <td>severity_type 2</td>\n",
       "    </tr>\n",
       "    <tr>\n",
       "      <th>1</th>\n",
       "      <td>8011</td>\n",
       "      <td>severity_type 2</td>\n",
       "    </tr>\n",
       "    <tr>\n",
       "      <th>2</th>\n",
       "      <td>2597</td>\n",
       "      <td>severity_type 2</td>\n",
       "    </tr>\n",
       "    <tr>\n",
       "      <th>3</th>\n",
       "      <td>5022</td>\n",
       "      <td>severity_type 1</td>\n",
       "    </tr>\n",
       "    <tr>\n",
       "      <th>4</th>\n",
       "      <td>6852</td>\n",
       "      <td>severity_type 1</td>\n",
       "    </tr>\n",
       "  </tbody>\n",
       "</table>\n",
       "</div>"
      ],
      "text/plain": [
       "     id    severity_type\n",
       "0  6597  severity_type 2\n",
       "1  8011  severity_type 2\n",
       "2  2597  severity_type 2\n",
       "3  5022  severity_type 1\n",
       "4  6852  severity_type 1"
      ]
     },
     "execution_count": 32,
     "metadata": {},
     "output_type": "execute_result"
    }
   ],
   "source": [
    "# Adding new feature- Mean volume\n",
    "test_merge4['mean_volumn']=test_merge4.groupby(['location','event_type','severity_type','log_feature','resource_type'])['volume'].transform('mean')\n",
    "severity_type.head()"
   ]
  },
  {
   "cell_type": "code",
   "execution_count": 33,
   "id": "081c62e1",
   "metadata": {},
   "outputs": [
    {
     "data": {
      "text/html": [
       "<div>\n",
       "<style scoped>\n",
       "    .dataframe tbody tr th:only-of-type {\n",
       "        vertical-align: middle;\n",
       "    }\n",
       "\n",
       "    .dataframe tbody tr th {\n",
       "        vertical-align: top;\n",
       "    }\n",
       "\n",
       "    .dataframe thead th {\n",
       "        text-align: right;\n",
       "    }\n",
       "</style>\n",
       "<table border=\"1\" class=\"dataframe\">\n",
       "  <thead>\n",
       "    <tr style=\"text-align: right;\">\n",
       "      <th></th>\n",
       "      <th>id</th>\n",
       "      <th>location</th>\n",
       "      <th>event_type</th>\n",
       "      <th>severity_type</th>\n",
       "      <th>log_feature</th>\n",
       "      <th>volume</th>\n",
       "      <th>resource_type</th>\n",
       "      <th>mean_volumn</th>\n",
       "    </tr>\n",
       "  </thead>\n",
       "  <tbody>\n",
       "    <tr>\n",
       "      <th>0</th>\n",
       "      <td>11066</td>\n",
       "      <td>location 481</td>\n",
       "      <td>event_type 35</td>\n",
       "      <td>severity_type 2</td>\n",
       "      <td>feature 230</td>\n",
       "      <td>24</td>\n",
       "      <td>resource_type 2</td>\n",
       "      <td>23.666667</td>\n",
       "    </tr>\n",
       "    <tr>\n",
       "      <th>1</th>\n",
       "      <td>18000</td>\n",
       "      <td>location 962</td>\n",
       "      <td>event_type 11</td>\n",
       "      <td>severity_type 1</td>\n",
       "      <td>feature 203</td>\n",
       "      <td>9</td>\n",
       "      <td>resource_type 8</td>\n",
       "      <td>10.250000</td>\n",
       "    </tr>\n",
       "  </tbody>\n",
       "</table>\n",
       "</div>"
      ],
      "text/plain": [
       "      id      location     event_type    severity_type  log_feature  volume  \\\n",
       "0  11066  location 481  event_type 35  severity_type 2  feature 230      24   \n",
       "1  18000  location 962  event_type 11  severity_type 1  feature 203       9   \n",
       "\n",
       "     resource_type  mean_volumn  \n",
       "0  resource_type 2    23.666667  \n",
       "1  resource_type 8    10.250000  "
      ]
     },
     "execution_count": 33,
     "metadata": {},
     "output_type": "execute_result"
    }
   ],
   "source": [
    "test_merge4.head(2)"
   ]
  },
  {
   "cell_type": "code",
   "execution_count": 34,
   "id": "fba9ec8f",
   "metadata": {},
   "outputs": [
    {
     "data": {
      "text/plain": [
       "['event_type', 'location', 'resource_type', 'log_feature', 'severity_type']"
      ]
     },
     "execution_count": 34,
     "metadata": {},
     "output_type": "execute_result"
    }
   ],
   "source": [
    "#Categorical columns\n",
    "cat_col"
   ]
  },
  {
   "cell_type": "code",
   "execution_count": 35,
   "id": "87956ce7",
   "metadata": {},
   "outputs": [],
   "source": [
    "# Categorical conversion\n",
    "#test_merge4=categorical_conversion(test_merge4,cat_col)\n",
    "#test_merge4.dtypes"
   ]
  },
  {
   "cell_type": "code",
   "execution_count": 36,
   "id": "198eb5d3",
   "metadata": {},
   "outputs": [
    {
     "data": {
      "text/plain": [
       "id                 int64\n",
       "location           int32\n",
       "event_type         int32\n",
       "severity_type      int32\n",
       "log_feature        int32\n",
       "volume             int64\n",
       "resource_type      int32\n",
       "mean_volumn      float64\n",
       "dtype: object"
      ]
     },
     "execution_count": 36,
     "metadata": {},
     "output_type": "execute_result"
    }
   ],
   "source": [
    "# Label encoding\n",
    "test_merge4=label_encoding_conversion(test_merge4,cat_col)\n",
    "test_merge4.dtypes"
   ]
  },
  {
   "cell_type": "code",
   "execution_count": 37,
   "id": "86299179",
   "metadata": {},
   "outputs": [],
   "source": [
    "# Removing unique columns\n",
    "test_merge4.drop(['id'],axis=1,inplace=True)"
   ]
  },
  {
   "cell_type": "code",
   "execution_count": 38,
   "id": "c44d0f2c",
   "metadata": {},
   "outputs": [
    {
     "data": {
      "text/plain": [
       "Index(['location', 'event_type', 'severity_type', 'log_feature', 'volume',\n",
       "       'resource_type', 'mean_volumn'],\n",
       "      dtype='object')"
      ]
     },
     "execution_count": 38,
     "metadata": {},
     "output_type": "execute_result"
    }
   ],
   "source": [
    "train_merge4.columns"
   ]
  },
  {
   "cell_type": "code",
   "execution_count": 39,
   "id": "595884db",
   "metadata": {},
   "outputs": [
    {
     "data": {
      "text/plain": [
       "Index(['location', 'event_type', 'severity_type', 'log_feature', 'volume',\n",
       "       'resource_type', 'mean_volumn'],\n",
       "      dtype='object')"
      ]
     },
     "execution_count": 39,
     "metadata": {},
     "output_type": "execute_result"
    }
   ],
   "source": [
    "test_merge4.columns"
   ]
  },
  {
   "cell_type": "code",
   "execution_count": 40,
   "id": "9144f66e",
   "metadata": {},
   "outputs": [
    {
     "name": "stderr",
     "output_type": "stream",
     "text": [
      "C:\\Users\\ekajgho\\Anaconda3\\lib\\site-packages\\sklearn\\utils\\validation.py:63: DataConversionWarning: A column-vector y was passed when a 1d array was expected. Please change the shape of y to (n_samples, ), for example using ravel().\n",
      "  return f(*args, **kwargs)\n",
      "C:\\Users\\ekajgho\\Anaconda3\\lib\\site-packages\\sklearn\\linear_model\\_logistic.py:763: ConvergenceWarning: lbfgs failed to converge (status=1):\n",
      "STOP: TOTAL NO. of ITERATIONS REACHED LIMIT.\n",
      "\n",
      "Increase the number of iterations (max_iter) or scale the data as shown in:\n",
      "    https://scikit-learn.org/stable/modules/preprocessing.html\n",
      "Please also refer to the documentation for alternative solver options:\n",
      "    https://scikit-learn.org/stable/modules/linear_model.html#logistic-regression\n",
      "  n_iter_i = _check_optimize_result(\n"
     ]
    },
    {
     "data": {
      "text/plain": [
       "0.6423248882265276"
      ]
     },
     "execution_count": 40,
     "metadata": {},
     "output_type": "execute_result"
    }
   ],
   "source": [
    "# LogisticRegression\n",
    "lr=LogisticRegression()\n",
    "lr.fit(train_merge4,target)\n",
    "lr_pred=lr.predict(test_merge4)\n",
    "accuracy_score(pd.DataFrame(lr.predict(train_merge4)),target)"
   ]
  },
  {
   "cell_type": "code",
   "execution_count": 41,
   "id": "3b2905dc",
   "metadata": {},
   "outputs": [
    {
     "name": "stderr",
     "output_type": "stream",
     "text": [
      "<ipython-input-41-afd96588df42>:3: DataConversionWarning: A column-vector y was passed when a 1d array was expected. Please change the shape of y to (n_samples,), for example using ravel().\n",
      "  rf.fit(train_merge4,target)\n"
     ]
    },
    {
     "data": {
      "text/plain": [
       "0.9697872916948923"
      ]
     },
     "execution_count": 41,
     "metadata": {},
     "output_type": "execute_result"
    }
   ],
   "source": [
    "# RandomForestClassifier\n",
    "rf=RandomForestClassifier()\n",
    "rf.fit(train_merge4,target)\n",
    "rf_pred=rf.predict(test_merge4)\n",
    "accuracy_score(pd.DataFrame(rf.predict(train_merge4)),target)"
   ]
  },
  {
   "cell_type": "code",
   "execution_count": 42,
   "id": "9ae59af8",
   "metadata": {},
   "outputs": [
    {
     "name": "stderr",
     "output_type": "stream",
     "text": [
      "C:\\Users\\ekajgho\\Anaconda3\\lib\\site-packages\\sklearn\\utils\\validation.py:63: DataConversionWarning: A column-vector y was passed when a 1d array was expected. Please change the shape of y to (n_samples, ), for example using ravel().\n",
      "  return f(*args, **kwargs)\n"
     ]
    },
    {
     "data": {
      "text/plain": [
       "0.532312694756808"
      ]
     },
     "execution_count": 42,
     "metadata": {},
     "output_type": "execute_result"
    }
   ],
   "source": [
    "# GaussianNB\n",
    "nb=GaussianNB()\n",
    "nb.fit(train_merge4,target)\n",
    "nb.predict(test_merge4)\n",
    "accuracy_score(pd.DataFrame(nb.predict(train_merge4)),target)"
   ]
  },
  {
   "cell_type": "code",
   "execution_count": 43,
   "id": "a8819ed9",
   "metadata": {},
   "outputs": [
    {
     "data": {
      "text/plain": [
       "0.9697872916948923"
      ]
     },
     "execution_count": 43,
     "metadata": {},
     "output_type": "execute_result"
    }
   ],
   "source": [
    "# DecisionTreeClassifier\n",
    "dt=tree.DecisionTreeClassifier()\n",
    "dt.fit(train_merge4,target)\n",
    "dt.predict(test_merge4)\n",
    "accuracy_score(pd.DataFrame(dt.predict(train_merge4)),target)"
   ]
  },
  {
   "cell_type": "code",
   "execution_count": 44,
   "id": "5e7e1337",
   "metadata": {},
   "outputs": [
    {
     "name": "stderr",
     "output_type": "stream",
     "text": [
      "C:\\Users\\ekajgho\\Anaconda3\\lib\\site-packages\\sklearn\\utils\\validation.py:63: DataConversionWarning: A column-vector y was passed when a 1d array was expected. Please change the shape of y to (n_samples, ), for example using ravel().\n",
      "  return f(*args, **kwargs)\n"
     ]
    },
    {
     "data": {
      "text/plain": [
       "0.6481506570925348"
      ]
     },
     "execution_count": 44,
     "metadata": {},
     "output_type": "execute_result"
    }
   ],
   "source": [
    "# SVC\n",
    "svc_ml=svm.SVC()\n",
    "svc_ml.fit(train_merge4,target)\n",
    "svc_ml.predict(test_merge4)\n",
    "accuracy_score(pd.DataFrame(svc_ml.predict(train_merge4)),target)"
   ]
  },
  {
   "cell_type": "code",
   "execution_count": 45,
   "id": "8ed22364",
   "metadata": {},
   "outputs": [
    {
     "name": "stderr",
     "output_type": "stream",
     "text": [
      "C:\\Users\\ekajgho\\Anaconda3\\lib\\site-packages\\sklearn\\utils\\validation.py:63: DataConversionWarning: A column-vector y was passed when a 1d array was expected. Please change the shape of y to (n_samples, ), for example using ravel().\n",
      "  return f(*args, **kwargs)\n"
     ]
    },
    {
     "data": {
      "text/plain": [
       "0.6794472293727137"
      ]
     },
     "execution_count": 45,
     "metadata": {},
     "output_type": "execute_result"
    }
   ],
   "source": [
    "# AdaBoostClassifier\n",
    "ada=AdaBoostClassifier()\n",
    "ada.fit(train_merge4,target)\n",
    "ada.predict(test_merge4)\n",
    "accuracy_score(pd.DataFrame(ada.predict(train_merge4)),target)"
   ]
  },
  {
   "cell_type": "code",
   "execution_count": 46,
   "id": "aba0d8ac",
   "metadata": {},
   "outputs": [
    {
     "name": "stderr",
     "output_type": "stream",
     "text": [
      "C:\\Users\\ekajgho\\Anaconda3\\lib\\site-packages\\sklearn\\neighbors\\_classification.py:179: DataConversionWarning: A column-vector y was passed when a 1d array was expected. Please change the shape of y to (n_samples,), for example using ravel().\n",
      "  return self._fit(X, y)\n"
     ]
    },
    {
     "data": {
      "text/plain": [
       "0.7627692724563068"
      ]
     },
     "execution_count": 46,
     "metadata": {},
     "output_type": "execute_result"
    }
   ],
   "source": [
    "# KNeighborsClassifier\n",
    "knn=KNeighborsClassifier()\n",
    "knn.fit(train_merge4,target)\n",
    "knn.predict(test_merge4)\n",
    "accuracy_score(pd.DataFrame(knn.predict(train_merge4)),target)"
   ]
  },
  {
   "cell_type": "code",
   "execution_count": 47,
   "id": "a4f780b5",
   "metadata": {},
   "outputs": [
    {
     "name": "stderr",
     "output_type": "stream",
     "text": [
      "C:\\Users\\ekajgho\\Anaconda3\\lib\\site-packages\\sklearn\\utils\\validation.py:63: DataConversionWarning: A column-vector y was passed when a 1d array was expected. Please change the shape of y to (n_samples, ), for example using ravel().\n",
      "  return f(*args, **kwargs)\n"
     ]
    },
    {
     "data": {
      "text/plain": [
       "0.738924265004742"
      ]
     },
     "execution_count": 47,
     "metadata": {},
     "output_type": "execute_result"
    }
   ],
   "source": [
    "# GradientBoostingClassifier\n",
    "gb=ensemble.GradientBoostingClassifier()\n",
    "gb.fit(train_merge4,target)\n",
    "gb_pre=gb.predict(test_merge4)\n",
    "accuracy_score(pd.DataFrame(gb.predict(train_merge4)),target)"
   ]
  },
  {
   "cell_type": "code",
   "execution_count": 48,
   "id": "084dc3d7",
   "metadata": {},
   "outputs": [
    {
     "name": "stderr",
     "output_type": "stream",
     "text": [
      "C:\\Users\\ekajgho\\Anaconda3\\lib\\site-packages\\sklearn\\utils\\validation.py:63: DataConversionWarning: A column-vector y was passed when a 1d array was expected. Please change the shape of y to (n_samples, ), for example using ravel().\n",
      "  return f(*args, **kwargs)\n"
     ]
    },
    {
     "name": "stdout",
     "output_type": "stream",
     "text": [
      "{'AdaBoostClassifier': [0.6794472293727137, AdaBoostClassifier()]}\n"
     ]
    },
    {
     "name": "stderr",
     "output_type": "stream",
     "text": [
      "C:\\Users\\ekajgho\\Anaconda3\\lib\\site-packages\\sklearn\\neighbors\\_classification.py:179: DataConversionWarning: A column-vector y was passed when a 1d array was expected. Please change the shape of y to (n_samples,), for example using ravel().\n",
      "  return self._fit(X, y)\n"
     ]
    },
    {
     "name": "stdout",
     "output_type": "stream",
     "text": [
      "{'AdaBoostClassifier': [0.6794472293727137, AdaBoostClassifier()], 'KNeighborsClassifier': [0.7627692724563068, KNeighborsClassifier()]}\n"
     ]
    },
    {
     "name": "stderr",
     "output_type": "stream",
     "text": [
      "C:\\Users\\ekajgho\\Anaconda3\\lib\\site-packages\\sklearn\\utils\\validation.py:63: DataConversionWarning: A column-vector y was passed when a 1d array was expected. Please change the shape of y to (n_samples, ), for example using ravel().\n",
      "  return f(*args, **kwargs)\n"
     ]
    },
    {
     "name": "stdout",
     "output_type": "stream",
     "text": [
      "{'AdaBoostClassifier': [0.6794472293727137, AdaBoostClassifier()], 'KNeighborsClassifier': [0.7627692724563068, KNeighborsClassifier()], 'SVC': [0.6481506570925348, SVC()]}\n"
     ]
    },
    {
     "name": "stderr",
     "output_type": "stream",
     "text": [
      "<ipython-input-48-e0db6ef01ad1>:9: DataConversionWarning: A column-vector y was passed when a 1d array was expected. Please change the shape of y to (n_samples,), for example using ravel().\n",
      "  ml.fit(X,target)\n"
     ]
    },
    {
     "name": "stdout",
     "output_type": "stream",
     "text": [
      "{'AdaBoostClassifier': [0.6794472293727137, AdaBoostClassifier()], 'KNeighborsClassifier': [0.7627692724563068, KNeighborsClassifier()], 'SVC': [0.6481506570925348, SVC()], 'RandomForestClassifier': [0.9696518086980084, RandomForestClassifier()]}\n",
      "{'AdaBoostClassifier': [0.6794472293727137, AdaBoostClassifier()], 'KNeighborsClassifier': [0.7627692724563068, KNeighborsClassifier()], 'SVC': [0.6481506570925348, SVC()], 'RandomForestClassifier': [0.9696518086980084, RandomForestClassifier()], 'DecisionTreeClassifier': [0.9697872916948923, DecisionTreeClassifier()]}\n",
      "{'AdaBoostClassifier': [0.6794472293727137, AdaBoostClassifier()], 'KNeighborsClassifier': [0.7627692724563068, KNeighborsClassifier()], 'SVC': [0.6481506570925348, SVC()], 'RandomForestClassifier': [0.9696518086980084, RandomForestClassifier()], 'DecisionTreeClassifier': [0.9697872916948923, DecisionTreeClassifier()], 'GaussianNB': [0.532312694756808, GaussianNB()]}\n"
     ]
    },
    {
     "name": "stderr",
     "output_type": "stream",
     "text": [
      "C:\\Users\\ekajgho\\Anaconda3\\lib\\site-packages\\sklearn\\utils\\validation.py:63: DataConversionWarning: A column-vector y was passed when a 1d array was expected. Please change the shape of y to (n_samples, ), for example using ravel().\n",
      "  return f(*args, **kwargs)\n",
      "C:\\Users\\ekajgho\\Anaconda3\\lib\\site-packages\\sklearn\\utils\\validation.py:63: DataConversionWarning: A column-vector y was passed when a 1d array was expected. Please change the shape of y to (n_samples, ), for example using ravel().\n",
      "  return f(*args, **kwargs)\n",
      "C:\\Users\\ekajgho\\Anaconda3\\lib\\site-packages\\sklearn\\linear_model\\_logistic.py:763: ConvergenceWarning: lbfgs failed to converge (status=1):\n",
      "STOP: TOTAL NO. of ITERATIONS REACHED LIMIT.\n",
      "\n",
      "Increase the number of iterations (max_iter) or scale the data as shown in:\n",
      "    https://scikit-learn.org/stable/modules/preprocessing.html\n",
      "Please also refer to the documentation for alternative solver options:\n",
      "    https://scikit-learn.org/stable/modules/linear_model.html#logistic-regression\n",
      "  n_iter_i = _check_optimize_result(\n",
      "C:\\Users\\ekajgho\\Anaconda3\\lib\\site-packages\\sklearn\\utils\\validation.py:63: DataConversionWarning: A column-vector y was passed when a 1d array was expected. Please change the shape of y to (n_samples, ), for example using ravel().\n",
      "  return f(*args, **kwargs)\n"
     ]
    },
    {
     "name": "stdout",
     "output_type": "stream",
     "text": [
      "{'AdaBoostClassifier': [0.6794472293727137, AdaBoostClassifier()], 'KNeighborsClassifier': [0.7627692724563068, KNeighborsClassifier()], 'SVC': [0.6481506570925348, SVC()], 'RandomForestClassifier': [0.9696518086980084, RandomForestClassifier()], 'DecisionTreeClassifier': [0.9697872916948923, DecisionTreeClassifier()], 'GaussianNB': [0.532312694756808, GaussianNB()], 'LogisticRegression': [0.6423248882265276, LogisticRegression()]}\n",
      "{'AdaBoostClassifier': [0.6794472293727137, AdaBoostClassifier()], 'KNeighborsClassifier': [0.7627692724563068, KNeighborsClassifier()], 'SVC': [0.6481506570925348, SVC()], 'RandomForestClassifier': [0.9696518086980084, RandomForestClassifier()], 'DecisionTreeClassifier': [0.9697872916948923, DecisionTreeClassifier()], 'GaussianNB': [0.532312694756808, GaussianNB()], 'LogisticRegression': [0.6423248882265276, LogisticRegression()], 'GradientBoostingClassifier': [0.738924265004742, GradientBoostingClassifier()]}\n",
      "Maximum classifier DecisionTreeClassifier [0.9697872916948923, DecisionTreeClassifier()]\n"
     ]
    }
   ],
   "source": [
    "# Model comparison consolidate function\n",
    "dic_data={}\n",
    "list1=[]\n",
    "max_clf_output=[]\n",
    "tuple_l=()\n",
    "def data_modeling(X,target,model):\n",
    "    for i in range(len(model)):\n",
    "        ml=model[i]\n",
    "        ml.fit(X,target)\n",
    "        pred=ml.predict(X)\n",
    "        acc_score=accuracy_score(pd.DataFrame(ml.predict(X)),target)\n",
    "        tuple_l=(ml.__class__.__name__,acc_score)\n",
    "        dic_data[ml.__class__.__name__]=[acc_score,ml]\n",
    "        list1.append(tuple_l)\n",
    "        print(dic_data)\n",
    "    for name,val in dic_data.items():\n",
    "        if val==max(dic_data.values()):\n",
    "            max_lis=[name,val]\n",
    "            print('Maximum classifier',name,val)\n",
    "\n",
    "    return list1,max_lis\n",
    "\n",
    "list1,max_lis=data_modeling(train_merge4,target,[AdaBoostClassifier(),KNeighborsClassifier(),svm.SVC(),RandomForestClassifier(),tree.DecisionTreeClassifier(),GaussianNB(),LogisticRegression(),ensemble.GradientBoostingClassifier()])"
   ]
  },
  {
   "cell_type": "code",
   "execution_count": 50,
   "id": "db18fac5",
   "metadata": {},
   "outputs": [],
   "source": [
    "model=max_lis[1][1]"
   ]
  },
  {
   "cell_type": "code",
   "execution_count": 51,
   "id": "821c0f4f",
   "metadata": {},
   "outputs": [
    {
     "data": {
      "text/html": [
       "<div>\n",
       "<style scoped>\n",
       "    .dataframe tbody tr th:only-of-type {\n",
       "        vertical-align: middle;\n",
       "    }\n",
       "\n",
       "    .dataframe tbody tr th {\n",
       "        vertical-align: top;\n",
       "    }\n",
       "\n",
       "    .dataframe thead th {\n",
       "        text-align: right;\n",
       "    }\n",
       "</style>\n",
       "<table border=\"1\" class=\"dataframe\">\n",
       "  <thead>\n",
       "    <tr style=\"text-align: right;\">\n",
       "      <th></th>\n",
       "      <th>Classifier</th>\n",
       "      <th>Accuracy score</th>\n",
       "    </tr>\n",
       "  </thead>\n",
       "  <tbody>\n",
       "    <tr>\n",
       "      <th>0</th>\n",
       "      <td>AdaBoostClassifier</td>\n",
       "      <td>0.679447</td>\n",
       "    </tr>\n",
       "    <tr>\n",
       "      <th>1</th>\n",
       "      <td>KNeighborsClassifier</td>\n",
       "      <td>0.762769</td>\n",
       "    </tr>\n",
       "    <tr>\n",
       "      <th>2</th>\n",
       "      <td>SVC</td>\n",
       "      <td>0.648151</td>\n",
       "    </tr>\n",
       "    <tr>\n",
       "      <th>3</th>\n",
       "      <td>RandomForestClassifier</td>\n",
       "      <td>0.969652</td>\n",
       "    </tr>\n",
       "    <tr>\n",
       "      <th>4</th>\n",
       "      <td>DecisionTreeClassifier</td>\n",
       "      <td>0.969787</td>\n",
       "    </tr>\n",
       "    <tr>\n",
       "      <th>5</th>\n",
       "      <td>GaussianNB</td>\n",
       "      <td>0.532313</td>\n",
       "    </tr>\n",
       "    <tr>\n",
       "      <th>6</th>\n",
       "      <td>LogisticRegression</td>\n",
       "      <td>0.642325</td>\n",
       "    </tr>\n",
       "    <tr>\n",
       "      <th>7</th>\n",
       "      <td>GradientBoostingClassifier</td>\n",
       "      <td>0.738924</td>\n",
       "    </tr>\n",
       "  </tbody>\n",
       "</table>\n",
       "</div>"
      ],
      "text/plain": [
       "                   Classifier  Accuracy score\n",
       "0          AdaBoostClassifier        0.679447\n",
       "1        KNeighborsClassifier        0.762769\n",
       "2                         SVC        0.648151\n",
       "3      RandomForestClassifier        0.969652\n",
       "4      DecisionTreeClassifier        0.969787\n",
       "5                  GaussianNB        0.532313\n",
       "6          LogisticRegression        0.642325\n",
       "7  GradientBoostingClassifier        0.738924"
      ]
     },
     "execution_count": 51,
     "metadata": {},
     "output_type": "execute_result"
    }
   ],
   "source": [
    "# Model score Visualization\n",
    "modelscore_df=pd.DataFrame(list1,columns=['Classifier',\"Accuracy score\"])\n",
    "modelscore_df"
   ]
  },
  {
   "cell_type": "code",
   "execution_count": 52,
   "id": "62886e9a",
   "metadata": {},
   "outputs": [
    {
     "data": {
      "text/html": [
       "<div>\n",
       "<style scoped>\n",
       "    .dataframe tbody tr th:only-of-type {\n",
       "        vertical-align: middle;\n",
       "    }\n",
       "\n",
       "    .dataframe tbody tr th {\n",
       "        vertical-align: top;\n",
       "    }\n",
       "\n",
       "    .dataframe thead th {\n",
       "        text-align: right;\n",
       "    }\n",
       "</style>\n",
       "<table border=\"1\" class=\"dataframe\">\n",
       "  <thead>\n",
       "    <tr style=\"text-align: right;\">\n",
       "      <th></th>\n",
       "      <th>Classifier</th>\n",
       "      <th>Accuracy score</th>\n",
       "      <th>classifier code</th>\n",
       "    </tr>\n",
       "  </thead>\n",
       "  <tbody>\n",
       "    <tr>\n",
       "      <th>0</th>\n",
       "      <td>AdaBoostClassifier</td>\n",
       "      <td>0.679447</td>\n",
       "      <td>0</td>\n",
       "    </tr>\n",
       "    <tr>\n",
       "      <th>1</th>\n",
       "      <td>KNeighborsClassifier</td>\n",
       "      <td>0.762769</td>\n",
       "      <td>1</td>\n",
       "    </tr>\n",
       "    <tr>\n",
       "      <th>2</th>\n",
       "      <td>SVC</td>\n",
       "      <td>0.648151</td>\n",
       "      <td>2</td>\n",
       "    </tr>\n",
       "    <tr>\n",
       "      <th>3</th>\n",
       "      <td>RandomForestClassifier</td>\n",
       "      <td>0.969652</td>\n",
       "      <td>3</td>\n",
       "    </tr>\n",
       "    <tr>\n",
       "      <th>4</th>\n",
       "      <td>DecisionTreeClassifier</td>\n",
       "      <td>0.969787</td>\n",
       "      <td>4</td>\n",
       "    </tr>\n",
       "    <tr>\n",
       "      <th>5</th>\n",
       "      <td>GaussianNB</td>\n",
       "      <td>0.532313</td>\n",
       "      <td>5</td>\n",
       "    </tr>\n",
       "    <tr>\n",
       "      <th>6</th>\n",
       "      <td>LogisticRegression</td>\n",
       "      <td>0.642325</td>\n",
       "      <td>6</td>\n",
       "    </tr>\n",
       "    <tr>\n",
       "      <th>7</th>\n",
       "      <td>GradientBoostingClassifier</td>\n",
       "      <td>0.738924</td>\n",
       "      <td>7</td>\n",
       "    </tr>\n",
       "  </tbody>\n",
       "</table>\n",
       "</div>"
      ],
      "text/plain": [
       "                   Classifier  Accuracy score  classifier code\n",
       "0          AdaBoostClassifier        0.679447                0\n",
       "1        KNeighborsClassifier        0.762769                1\n",
       "2                         SVC        0.648151                2\n",
       "3      RandomForestClassifier        0.969652                3\n",
       "4      DecisionTreeClassifier        0.969787                4\n",
       "5                  GaussianNB        0.532313                5\n",
       "6          LogisticRegression        0.642325                6\n",
       "7  GradientBoostingClassifier        0.738924                7"
      ]
     },
     "execution_count": 52,
     "metadata": {},
     "output_type": "execute_result"
    }
   ],
   "source": [
    "modelscore_df['classifier code']=np.arange(8)\n",
    "modelscore_df"
   ]
  },
  {
   "cell_type": "code",
   "execution_count": 53,
   "id": "8932179d",
   "metadata": {},
   "outputs": [
    {
     "data": {
      "text/plain": [
       "<AxesSubplot:xlabel='classifier code'>"
      ]
     },
     "execution_count": 53,
     "metadata": {},
     "output_type": "execute_result"
    },
    {
     "data": {
      "image/png": "[encoded data removed]",
      "text/plain": [
       "<Figure size 432x288 with 1 Axes>"
      ]
     },
     "metadata": {
      "needs_background": "light"
     },
     "output_type": "display_data"
    }
   ],
   "source": [
    "modelscore_df.plot.bar(x='classifier code', y='Accuracy score', rot=0)"
   ]
  },
  {
   "cell_type": "code",
   "execution_count": 54,
   "id": "80235b45",
   "metadata": {},
   "outputs": [
    {
     "data": {
      "text/html": [
       "<div>\n",
       "<style scoped>\n",
       "    .dataframe tbody tr th:only-of-type {\n",
       "        vertical-align: middle;\n",
       "    }\n",
       "\n",
       "    .dataframe tbody tr th {\n",
       "        vertical-align: top;\n",
       "    }\n",
       "\n",
       "    .dataframe thead th {\n",
       "        text-align: right;\n",
       "    }\n",
       "</style>\n",
       "<table border=\"1\" class=\"dataframe\">\n",
       "  <thead>\n",
       "    <tr style=\"text-align: right;\">\n",
       "      <th></th>\n",
       "      <th>id</th>\n",
       "      <th>predict_0</th>\n",
       "      <th>predict_1</th>\n",
       "      <th>predict_2</th>\n",
       "    </tr>\n",
       "  </thead>\n",
       "  <tbody>\n",
       "    <tr>\n",
       "      <th>0</th>\n",
       "      <td>11066</td>\n",
       "      <td>0.990000</td>\n",
       "      <td>0.010</td>\n",
       "      <td>0.000000</td>\n",
       "    </tr>\n",
       "    <tr>\n",
       "      <th>1</th>\n",
       "      <td>18000</td>\n",
       "      <td>0.160000</td>\n",
       "      <td>0.210</td>\n",
       "      <td>0.630000</td>\n",
       "    </tr>\n",
       "    <tr>\n",
       "      <th>2</th>\n",
       "      <td>16964</td>\n",
       "      <td>0.870000</td>\n",
       "      <td>0.110</td>\n",
       "      <td>0.020000</td>\n",
       "    </tr>\n",
       "    <tr>\n",
       "      <th>3</th>\n",
       "      <td>4795</td>\n",
       "      <td>0.660000</td>\n",
       "      <td>0.330</td>\n",
       "      <td>0.010000</td>\n",
       "    </tr>\n",
       "    <tr>\n",
       "      <th>4</th>\n",
       "      <td>3392</td>\n",
       "      <td>0.444167</td>\n",
       "      <td>0.450</td>\n",
       "      <td>0.105833</td>\n",
       "    </tr>\n",
       "    <tr>\n",
       "      <th>...</th>\n",
       "      <td>...</td>\n",
       "      <td>...</td>\n",
       "      <td>...</td>\n",
       "      <td>...</td>\n",
       "    </tr>\n",
       "    <tr>\n",
       "      <th>11166</th>\n",
       "      <td>14806</td>\n",
       "      <td>0.490000</td>\n",
       "      <td>0.130</td>\n",
       "      <td>0.380000</td>\n",
       "    </tr>\n",
       "    <tr>\n",
       "      <th>11167</th>\n",
       "      <td>1825</td>\n",
       "      <td>0.490000</td>\n",
       "      <td>0.425</td>\n",
       "      <td>0.085000</td>\n",
       "    </tr>\n",
       "    <tr>\n",
       "      <th>11168</th>\n",
       "      <td>2374</td>\n",
       "      <td>0.180000</td>\n",
       "      <td>0.740</td>\n",
       "      <td>0.080000</td>\n",
       "    </tr>\n",
       "    <tr>\n",
       "      <th>11169</th>\n",
       "      <td>7277</td>\n",
       "      <td>0.980000</td>\n",
       "      <td>0.010</td>\n",
       "      <td>0.010000</td>\n",
       "    </tr>\n",
       "    <tr>\n",
       "      <th>11170</th>\n",
       "      <td>9886</td>\n",
       "      <td>0.740000</td>\n",
       "      <td>0.250</td>\n",
       "      <td>0.010000</td>\n",
       "    </tr>\n",
       "  </tbody>\n",
       "</table>\n",
       "<p>11171 rows × 4 columns</p>\n",
       "</div>"
      ],
      "text/plain": [
       "          id  predict_0  predict_1  predict_2\n",
       "0      11066   0.990000      0.010   0.000000\n",
       "1      18000   0.160000      0.210   0.630000\n",
       "2      16964   0.870000      0.110   0.020000\n",
       "3       4795   0.660000      0.330   0.010000\n",
       "4       3392   0.444167      0.450   0.105833\n",
       "...      ...        ...        ...        ...\n",
       "11166  14806   0.490000      0.130   0.380000\n",
       "11167   1825   0.490000      0.425   0.085000\n",
       "11168   2374   0.180000      0.740   0.080000\n",
       "11169   7277   0.980000      0.010   0.010000\n",
       "11170   9886   0.740000      0.250   0.010000\n",
       "\n",
       "[11171 rows x 4 columns]"
      ]
     },
     "execution_count": 54,
     "metadata": {},
     "output_type": "execute_result"
    }
   ],
   "source": [
    "# Predict\n",
    "predict_test=rf.predict_proba(test_merge4)\n",
    "pred_df=pd.DataFrame(predict_test,columns=['predict_0', 'predict_1', 'predict_2'])\n",
    "submission=pd.concat([test[['id']],pred_df],axis=1)\n",
    "submission"
   ]
  },
  {
   "cell_type": "code",
   "execution_count": 70,
   "id": "0f58b2bc",
   "metadata": {},
   "outputs": [
    {
     "data": {
      "text/plain": [
       "['predict_model.pkl']"
      ]
     },
     "execution_count": 70,
     "metadata": {},
     "output_type": "execute_result"
    }
   ],
   "source": [
    "import joblib\n",
    "model_file_name = 'predict_model.pkl'\n",
    "joblib.dump(rf , model_file_name)"
   ]
  }
 ],
 "metadata": {
  "kernelspec": {
   "display_name": "Python 3",
   "language": "python",
   "name": "python3"
  },
  "language_info": {
   "codemirror_mode": {
    "name": "ipython",
    "version": 3
   },
   "file_extension": ".py",
   "mimetype": "text/x-python",
   "name": "python",
   "nbconvert_exporter": "python",
   "pygments_lexer": "ipython3",
   "version": "3.8.8"
  }
 },
 "nbformat": 4,
 "nbformat_minor": 5
}
